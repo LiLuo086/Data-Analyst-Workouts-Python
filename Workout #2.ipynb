{
 "cells": [
  {
   "cell_type": "markdown",
   "id": "ae689b3d",
   "metadata": {},
   "source": [
    "### Table of Content\n",
    "- [Creating New DataFrame](#Creating-New-DataFrame)\n",
    "- [Inspect Data](#Inspect-Data)"
   ]
  },
  {
   "cell_type": "code",
   "execution_count": 1,
   "id": "26d03e8f",
   "metadata": {},
   "outputs": [],
   "source": [
    "# Import pandas using alias pd, numpy as np\n",
    "import pandas as pd \n",
    "from pathlib import Path"
   ]
  },
  {
   "cell_type": "markdown",
   "id": "72e67036",
   "metadata": {},
   "source": [
    "### Creating New DataFrame\n",
    "--------------------------"
   ]
  },
  {
   "cell_type": "markdown",
   "id": "a7072381",
   "metadata": {},
   "source": [
    "A DataFrame can be created by `pd.DataFrame()` method. The content of a DataFrame is constructed using Python **dictionary-list**, where the **key** in the dictionary is the column name of the DataFrame, and the **values** are a list of entries."
   ]
  },
  {
   "cell_type": "code",
   "execution_count": 7,
   "id": "09a38645",
   "metadata": {},
   "outputs": [
    {
     "name": "stdout",
     "output_type": "stream",
     "text": [
      "   Year_Birth  Income\n",
      "0        1999   36000\n",
      "1        2000   38000\n"
     ]
    }
   ],
   "source": [
    "# --- Create a DataFrame --- \n",
    "df = pd.DataFrame({\"Year_Birth\":[1999,2000],\n",
    "                   \"Income\":[36000,38000]})\n",
    "\n",
    "print(df)\n"
   ]
  },
  {
   "cell_type": "markdown",
   "id": "12021d9a",
   "metadata": {},
   "source": [
    "By default, the row index of a new DataFrame is acsending from 0(0,1,2,3,...). It's also possible to assign the desired row index when creating a DataFrame unsing index."
   ]
  },
  {
   "cell_type": "code",
   "execution_count": 8,
   "id": "fa3abc77",
   "metadata": {},
   "outputs": [
    {
     "name": "stdout",
     "output_type": "stream",
     "text": [
      "   Year_Birth  Income\n",
      "1        1999   36000\n",
      "2        2000   38000\n"
     ]
    }
   ],
   "source": [
    "# --- Create a DataFrame with index ---\n",
    "df_with_index = pd.DataFrame({\"Year_Birth\":[1999,2000],\n",
    "              \"Income\":[36000,38000]},\n",
    "               index = [1,2])\n",
    "\n",
    "print(df_with_index)"
   ]
  },
  {
   "cell_type": "markdown",
   "id": "8403c088",
   "metadata": {},
   "source": [
    "### Accessing Data"
   ]
  },
  {
   "cell_type": "markdown",
   "id": "b86bee83",
   "metadata": {},
   "source": [
    "Access column of a DataFrame using `.` or `[]` operator."
   ]
  },
  {
   "cell_type": "code",
   "execution_count": null,
   "id": "e57e0c62",
   "metadata": {},
   "outputs": [
    {
     "ename": "FileNotFoundError",
     "evalue": "Dataset not found. Please check the path.",
     "output_type": "error",
     "traceback": [
      "\u001b[1;31m---------------------------------------------------------------------------\u001b[0m",
      "\u001b[1;31mFileNotFoundError\u001b[0m                         Traceback (most recent call last)",
      "Cell \u001b[1;32mIn[9], line 7\u001b[0m\n\u001b[0;32m      5\u001b[0m     \u001b[38;5;28mprint\u001b[39m(\u001b[38;5;124mf\u001b[39m\u001b[38;5;124m'\u001b[39m\u001b[38;5;124mData loaded successfully: \u001b[39m\u001b[38;5;132;01m{\u001b[39;00mdf_marketing\u001b[38;5;241m.\u001b[39mshape[\u001b[38;5;241m0\u001b[39m]\u001b[38;5;132;01m}\u001b[39;00m\u001b[38;5;124m rows, \u001b[39m\u001b[38;5;132;01m{\u001b[39;00mdf_marketing\u001b[38;5;241m.\u001b[39mshape[\u001b[38;5;241m1\u001b[39m]\u001b[38;5;132;01m}\u001b[39;00m\u001b[38;5;124m columns.\u001b[39m\u001b[38;5;124m'\u001b[39m)\n\u001b[0;32m      6\u001b[0m \u001b[38;5;28;01melse\u001b[39;00m:\n\u001b[1;32m----> 7\u001b[0m     \u001b[38;5;28;01mraise\u001b[39;00m \u001b[38;5;167;01mFileNotFoundError\u001b[39;00m(\u001b[38;5;124m'\u001b[39m\u001b[38;5;124mDataset not found. Please check the path.\u001b[39m\u001b[38;5;124m'\u001b[39m)\n",
      "\u001b[1;31mFileNotFoundError\u001b[0m: Dataset not found. Please check the path."
     ]
    }
   ],
   "source": [
    "csv_file_path = Path('data/corrected_marketing_campaign.csv')\n",
    "\n",
    "if csv_file_path.exists():\n",
    "    df_marketing = pd.read_csv(csv_file_path, sep = ',') \n",
    "    print(f'Data loaded successfully: {df_marketing.shape[0]} rows, {df_marketing.shape[1]} columns.')\n",
    "else:\n",
    "    raise FileNotFoundError('Dataset not found. Please check the path.')"
   ]
  }
 ],
 "metadata": {
  "kernelspec": {
   "display_name": "base",
   "language": "python",
   "name": "python3"
  },
  "language_info": {
   "codemirror_mode": {
    "name": "ipython",
    "version": 3
   },
   "file_extension": ".py",
   "mimetype": "text/x-python",
   "name": "python",
   "nbconvert_exporter": "python",
   "pygments_lexer": "ipython3",
   "version": "3.11.7"
  }
 },
 "nbformat": 4,
 "nbformat_minor": 5
}
