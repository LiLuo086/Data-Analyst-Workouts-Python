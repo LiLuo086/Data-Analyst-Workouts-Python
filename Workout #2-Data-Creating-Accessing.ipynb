{
 "cells": [
  {
   "cell_type": "markdown",
   "id": "ae689b3d",
   "metadata": {},
   "source": [
    "### Table of Content\n",
    "- [Creating New DataFrame](#Creating-New-DataFrame)\n",
    "- [Accessing Data Element](#Accessing-Data-Element)"
   ]
  },
  {
   "cell_type": "code",
   "execution_count": null,
   "id": "26d03e8f",
   "metadata": {},
   "outputs": [],
   "source": [
    "# Import pandas using alias pd\n",
    "import pandas as pd \n",
    "from pathlib import Path"
   ]
  },
  {
   "cell_type": "markdown",
   "id": "72e67036",
   "metadata": {},
   "source": [
    "### Creating New DataFrame\n",
    "--------------------------"
   ]
  },
  {
   "cell_type": "markdown",
   "id": "a7072381",
   "metadata": {},
   "source": [
    "A DataFrame can be created by `pd.DataFrame()` method. \n",
    "\n",
    "The content of a DataFrame is constructed using Python **dictionary-list**, where the **key** in the dictionary is the column name of the DataFrame, and the **values** are a list of entries."
   ]
  },
  {
   "cell_type": "code",
   "execution_count": 3,
   "id": "09a38645",
   "metadata": {},
   "outputs": [
    {
     "name": "stdout",
     "output_type": "stream",
     "text": [
      "   Year_Birth  Income\n",
      "0        1999   36000\n",
      "1        2000   38000\n"
     ]
    }
   ],
   "source": [
    "# --- 1. Create a new DataFrame --- \n",
    "df = pd.DataFrame({\"Year_Birth\":[1999,2000],\n",
    "                   \"Income\":[36000,38000]})\n",
    "\n",
    "print(df)\n"
   ]
  },
  {
   "cell_type": "markdown",
   "id": "12021d9a",
   "metadata": {},
   "source": [
    "By default, the row index of a new DataFrame is acsending from 0(0,1,2,3,...). It's also possible to assign the desired row index when creating a DataFrame unsing index."
   ]
  },
  {
   "cell_type": "code",
   "execution_count": 4,
   "id": "fa3abc77",
   "metadata": {},
   "outputs": [
    {
     "name": "stdout",
     "output_type": "stream",
     "text": [
      "   Year_Birth  Income\n",
      "1        1999   36000\n",
      "2        2000   38000\n"
     ]
    }
   ],
   "source": [
    "# --- 2. Create a new DataFrame with index ---\n",
    "df_with_index = pd.DataFrame({\"Year_Birth\":[1999,2000],\n",
    "              \"Income\":[36000,38000]},\n",
    "               index = [1,2])\n",
    "\n",
    "print(df_with_index)"
   ]
  },
  {
   "cell_type": "markdown",
   "id": "8403c088",
   "metadata": {},
   "source": [
    "### Accessing Data Element"
   ]
  },
  {
   "cell_type": "markdown",
   "id": "b86bee83",
   "metadata": {},
   "source": [
    "Accessing columns of a DataFrame using `.` or `[]` operator."
   ]
  },
  {
   "cell_type": "code",
   "execution_count": 5,
   "id": "e57e0c62",
   "metadata": {},
   "outputs": [
    {
     "name": "stdout",
     "output_type": "stream",
     "text": [
      "Data loaded successfully: 2240 rows, 29 columns.\n"
     ]
    }
   ],
   "source": [
    "# Loading the dataset\n",
    "csv_file_path = Path('data/corrected_marketing_campaign.csv')\n",
    "\n",
    "if csv_file_path.exists():\n",
    "    df_marketing = pd.read_csv(csv_file_path, sep = ',') \n",
    "    print(f'Data loaded successfully: {df_marketing.shape[0]} rows, {df_marketing.shape[1]} columns.')\n",
    "else:\n",
    "    raise FileNotFoundError('Dataset not found. Please check the path.')"
   ]
  },
  {
   "cell_type": "code",
   "execution_count": 6,
   "id": "4f23fc20",
   "metadata": {},
   "outputs": [
    {
     "data": {
      "text/plain": [
       "0       Graduation\n",
       "1       Graduation\n",
       "2       Graduation\n",
       "3       Graduation\n",
       "4              PhD\n",
       "           ...    \n",
       "2235    Graduation\n",
       "2236           PhD\n",
       "2237    Graduation\n",
       "2238        Master\n",
       "2239           PhD\n",
       "Name: Education, Length: 2240, dtype: object"
      ]
     },
     "execution_count": 6,
     "metadata": {},
     "output_type": "execute_result"
    }
   ],
   "source": [
    "# --- 3. Accessing specific column using `.` operator ---\n",
    "# For example, accessing the 'Education' column\n",
    "# `.` operator is not recommended for column names with spaces or special characters.\n",
    "df_marketing.Education"
   ]
  },
  {
   "cell_type": "code",
   "execution_count": 7,
   "id": "8e2e0d46",
   "metadata": {},
   "outputs": [
    {
     "data": {
      "text/plain": [
       "0       Graduation\n",
       "1       Graduation\n",
       "2       Graduation\n",
       "3       Graduation\n",
       "4              PhD\n",
       "           ...    \n",
       "2235    Graduation\n",
       "2236           PhD\n",
       "2237    Graduation\n",
       "2238        Master\n",
       "2239           PhD\n",
       "Name: Education, Length: 2240, dtype: object"
      ]
     },
     "execution_count": 7,
     "metadata": {},
     "output_type": "execute_result"
    }
   ],
   "source": [
    "# --- 4. Accessing a specific column using `[]` operator ---\n",
    "df_marketing['Education']"
   ]
  },
  {
   "cell_type": "code",
   "execution_count": 8,
   "id": "89e5aa13",
   "metadata": {},
   "outputs": [
    {
     "data": {
      "text/html": [
       "<div>\n",
       "<style scoped>\n",
       "    .dataframe tbody tr th:only-of-type {\n",
       "        vertical-align: middle;\n",
       "    }\n",
       "\n",
       "    .dataframe tbody tr th {\n",
       "        vertical-align: top;\n",
       "    }\n",
       "\n",
       "    .dataframe thead th {\n",
       "        text-align: right;\n",
       "    }\n",
       "</style>\n",
       "<table border=\"1\" class=\"dataframe\">\n",
       "  <thead>\n",
       "    <tr style=\"text-align: right;\">\n",
       "      <th></th>\n",
       "      <th>Education</th>\n",
       "      <th>Income</th>\n",
       "    </tr>\n",
       "  </thead>\n",
       "  <tbody>\n",
       "    <tr>\n",
       "      <th>0</th>\n",
       "      <td>Graduation</td>\n",
       "      <td>58138.0</td>\n",
       "    </tr>\n",
       "    <tr>\n",
       "      <th>1</th>\n",
       "      <td>Graduation</td>\n",
       "      <td>46344.0</td>\n",
       "    </tr>\n",
       "    <tr>\n",
       "      <th>2</th>\n",
       "      <td>Graduation</td>\n",
       "      <td>71613.0</td>\n",
       "    </tr>\n",
       "    <tr>\n",
       "      <th>3</th>\n",
       "      <td>Graduation</td>\n",
       "      <td>26646.0</td>\n",
       "    </tr>\n",
       "    <tr>\n",
       "      <th>4</th>\n",
       "      <td>PhD</td>\n",
       "      <td>58293.0</td>\n",
       "    </tr>\n",
       "    <tr>\n",
       "      <th>...</th>\n",
       "      <td>...</td>\n",
       "      <td>...</td>\n",
       "    </tr>\n",
       "    <tr>\n",
       "      <th>2235</th>\n",
       "      <td>Graduation</td>\n",
       "      <td>61223.0</td>\n",
       "    </tr>\n",
       "    <tr>\n",
       "      <th>2236</th>\n",
       "      <td>PhD</td>\n",
       "      <td>64014.0</td>\n",
       "    </tr>\n",
       "    <tr>\n",
       "      <th>2237</th>\n",
       "      <td>Graduation</td>\n",
       "      <td>56981.0</td>\n",
       "    </tr>\n",
       "    <tr>\n",
       "      <th>2238</th>\n",
       "      <td>Master</td>\n",
       "      <td>69245.0</td>\n",
       "    </tr>\n",
       "    <tr>\n",
       "      <th>2239</th>\n",
       "      <td>PhD</td>\n",
       "      <td>52869.0</td>\n",
       "    </tr>\n",
       "  </tbody>\n",
       "</table>\n",
       "<p>2240 rows × 2 columns</p>\n",
       "</div>"
      ],
      "text/plain": [
       "       Education   Income\n",
       "0     Graduation  58138.0\n",
       "1     Graduation  46344.0\n",
       "2     Graduation  71613.0\n",
       "3     Graduation  26646.0\n",
       "4            PhD  58293.0\n",
       "...          ...      ...\n",
       "2235  Graduation  61223.0\n",
       "2236         PhD  64014.0\n",
       "2237  Graduation  56981.0\n",
       "2238      Master  69245.0\n",
       "2239         PhD  52869.0\n",
       "\n",
       "[2240 rows x 2 columns]"
      ]
     },
     "execution_count": 8,
     "metadata": {},
     "output_type": "execute_result"
    }
   ],
   "source": [
    "# --- 5. Accessing multiple columns using `[]` operator ---\n",
    "# For example, accessing 'Education' and 'Income' columns\n",
    "df_marketing[['Education', 'Income']]"
   ]
  },
  {
   "cell_type": "markdown",
   "id": "040560a6",
   "metadata": {},
   "source": [
    "Accessing a single row in a DataFrame"
   ]
  },
  {
   "cell_type": "code",
   "execution_count": 9,
   "id": "42e1dcde",
   "metadata": {},
   "outputs": [
    {
     "data": {
      "text/plain": [
       "ID                           6182\n",
       "Year_Birth                   1984\n",
       "Education              Graduation\n",
       "Marital_Status           Together\n",
       "Income                    26646.0\n",
       "Kidhome                         1\n",
       "Teenhome                        0\n",
       "Dt_Customer            10-02-2014\n",
       "Recency                        26\n",
       "MntWines                       11\n",
       "MntFruits                       4\n",
       "MntMeatProducts                20\n",
       "MntFishProducts                10\n",
       "MntSweetProducts                3\n",
       "MntGoldProds                    5\n",
       "NumDealsPurchases               2\n",
       "NumWebPurchases                 2\n",
       "NumCatalogPurchases             0\n",
       "NumStorePurchases               4\n",
       "NumWebVisitsMonth               6\n",
       "AcceptedCmp3                    0\n",
       "AcceptedCmp4                    0\n",
       "AcceptedCmp5                    0\n",
       "AcceptedCmp1                    0\n",
       "AcceptedCmp2                    0\n",
       "Complain                        0\n",
       "Z_CostContact                   3\n",
       "Z_Revenue                      11\n",
       "Response                        0\n",
       "Name: 3, dtype: object"
      ]
     },
     "execution_count": 9,
     "metadata": {},
     "output_type": "execute_result"
    }
   ],
   "source": [
    "# --- 6. Using .iloc[] for position-based access ---\n",
    "df_marketing.iloc[0]  # First row\n",
    "df_marketing.iloc[3]  # Fourth row "
   ]
  },
  {
   "cell_type": "markdown",
   "id": "0544f5c1",
   "metadata": {},
   "source": [
    "Accessing multiple rows"
   ]
  },
  {
   "cell_type": "code",
   "execution_count": 10,
   "id": "953daa26",
   "metadata": {},
   "outputs": [
    {
     "data": {
      "text/html": [
       "<div>\n",
       "<style scoped>\n",
       "    .dataframe tbody tr th:only-of-type {\n",
       "        vertical-align: middle;\n",
       "    }\n",
       "\n",
       "    .dataframe tbody tr th {\n",
       "        vertical-align: top;\n",
       "    }\n",
       "\n",
       "    .dataframe thead th {\n",
       "        text-align: right;\n",
       "    }\n",
       "</style>\n",
       "<table border=\"1\" class=\"dataframe\">\n",
       "  <thead>\n",
       "    <tr style=\"text-align: right;\">\n",
       "      <th></th>\n",
       "      <th>ID</th>\n",
       "      <th>Year_Birth</th>\n",
       "      <th>Education</th>\n",
       "      <th>Marital_Status</th>\n",
       "      <th>Income</th>\n",
       "      <th>Kidhome</th>\n",
       "      <th>Teenhome</th>\n",
       "      <th>Dt_Customer</th>\n",
       "      <th>Recency</th>\n",
       "      <th>MntWines</th>\n",
       "      <th>...</th>\n",
       "      <th>NumWebVisitsMonth</th>\n",
       "      <th>AcceptedCmp3</th>\n",
       "      <th>AcceptedCmp4</th>\n",
       "      <th>AcceptedCmp5</th>\n",
       "      <th>AcceptedCmp1</th>\n",
       "      <th>AcceptedCmp2</th>\n",
       "      <th>Complain</th>\n",
       "      <th>Z_CostContact</th>\n",
       "      <th>Z_Revenue</th>\n",
       "      <th>Response</th>\n",
       "    </tr>\n",
       "  </thead>\n",
       "  <tbody>\n",
       "    <tr>\n",
       "      <th>0</th>\n",
       "      <td>5524</td>\n",
       "      <td>1957</td>\n",
       "      <td>Graduation</td>\n",
       "      <td>Single</td>\n",
       "      <td>58138.0</td>\n",
       "      <td>0</td>\n",
       "      <td>0</td>\n",
       "      <td>04-09-2012</td>\n",
       "      <td>58</td>\n",
       "      <td>635</td>\n",
       "      <td>...</td>\n",
       "      <td>7</td>\n",
       "      <td>0</td>\n",
       "      <td>0</td>\n",
       "      <td>0</td>\n",
       "      <td>0</td>\n",
       "      <td>0</td>\n",
       "      <td>0</td>\n",
       "      <td>3</td>\n",
       "      <td>11</td>\n",
       "      <td>1</td>\n",
       "    </tr>\n",
       "    <tr>\n",
       "      <th>1</th>\n",
       "      <td>2174</td>\n",
       "      <td>1954</td>\n",
       "      <td>Graduation</td>\n",
       "      <td>Single</td>\n",
       "      <td>46344.0</td>\n",
       "      <td>1</td>\n",
       "      <td>1</td>\n",
       "      <td>08-03-2014</td>\n",
       "      <td>38</td>\n",
       "      <td>11</td>\n",
       "      <td>...</td>\n",
       "      <td>5</td>\n",
       "      <td>0</td>\n",
       "      <td>0</td>\n",
       "      <td>0</td>\n",
       "      <td>0</td>\n",
       "      <td>0</td>\n",
       "      <td>0</td>\n",
       "      <td>3</td>\n",
       "      <td>11</td>\n",
       "      <td>0</td>\n",
       "    </tr>\n",
       "    <tr>\n",
       "      <th>2</th>\n",
       "      <td>4141</td>\n",
       "      <td>1965</td>\n",
       "      <td>Graduation</td>\n",
       "      <td>Together</td>\n",
       "      <td>71613.0</td>\n",
       "      <td>0</td>\n",
       "      <td>0</td>\n",
       "      <td>21-08-2013</td>\n",
       "      <td>26</td>\n",
       "      <td>426</td>\n",
       "      <td>...</td>\n",
       "      <td>4</td>\n",
       "      <td>0</td>\n",
       "      <td>0</td>\n",
       "      <td>0</td>\n",
       "      <td>0</td>\n",
       "      <td>0</td>\n",
       "      <td>0</td>\n",
       "      <td>3</td>\n",
       "      <td>11</td>\n",
       "      <td>0</td>\n",
       "    </tr>\n",
       "  </tbody>\n",
       "</table>\n",
       "<p>3 rows × 29 columns</p>\n",
       "</div>"
      ],
      "text/plain": [
       "     ID  Year_Birth   Education Marital_Status   Income  Kidhome  Teenhome  \\\n",
       "0  5524        1957  Graduation         Single  58138.0        0         0   \n",
       "1  2174        1954  Graduation         Single  46344.0        1         1   \n",
       "2  4141        1965  Graduation       Together  71613.0        0         0   \n",
       "\n",
       "  Dt_Customer  Recency  MntWines  ...  NumWebVisitsMonth  AcceptedCmp3  \\\n",
       "0  04-09-2012       58       635  ...                  7             0   \n",
       "1  08-03-2014       38        11  ...                  5             0   \n",
       "2  21-08-2013       26       426  ...                  4             0   \n",
       "\n",
       "   AcceptedCmp4  AcceptedCmp5  AcceptedCmp1  AcceptedCmp2  Complain  \\\n",
       "0             0             0             0             0         0   \n",
       "1             0             0             0             0         0   \n",
       "2             0             0             0             0         0   \n",
       "\n",
       "   Z_CostContact  Z_Revenue  Response  \n",
       "0              3         11         1  \n",
       "1              3         11         0  \n",
       "2              3         11         0  \n",
       "\n",
       "[3 rows x 29 columns]"
      ]
     },
     "execution_count": 10,
     "metadata": {},
     "output_type": "execute_result"
    }
   ],
   "source": [
    "# --- 7. Accessing the first three rows ---\n",
    "df_marketing.iloc[0:3]  "
   ]
  },
  {
   "cell_type": "code",
   "execution_count": 11,
   "id": "4e5f7a4f",
   "metadata": {},
   "outputs": [
    {
     "data": {
      "text/html": [
       "<div>\n",
       "<style scoped>\n",
       "    .dataframe tbody tr th:only-of-type {\n",
       "        vertical-align: middle;\n",
       "    }\n",
       "\n",
       "    .dataframe tbody tr th {\n",
       "        vertical-align: top;\n",
       "    }\n",
       "\n",
       "    .dataframe thead th {\n",
       "        text-align: right;\n",
       "    }\n",
       "</style>\n",
       "<table border=\"1\" class=\"dataframe\">\n",
       "  <thead>\n",
       "    <tr style=\"text-align: right;\">\n",
       "      <th></th>\n",
       "      <th>ID</th>\n",
       "      <th>Year_Birth</th>\n",
       "      <th>Education</th>\n",
       "      <th>Marital_Status</th>\n",
       "      <th>Income</th>\n",
       "      <th>Kidhome</th>\n",
       "      <th>Teenhome</th>\n",
       "      <th>Dt_Customer</th>\n",
       "      <th>Recency</th>\n",
       "      <th>MntWines</th>\n",
       "      <th>...</th>\n",
       "      <th>NumWebVisitsMonth</th>\n",
       "      <th>AcceptedCmp3</th>\n",
       "      <th>AcceptedCmp4</th>\n",
       "      <th>AcceptedCmp5</th>\n",
       "      <th>AcceptedCmp1</th>\n",
       "      <th>AcceptedCmp2</th>\n",
       "      <th>Complain</th>\n",
       "      <th>Z_CostContact</th>\n",
       "      <th>Z_Revenue</th>\n",
       "      <th>Response</th>\n",
       "    </tr>\n",
       "  </thead>\n",
       "  <tbody>\n",
       "    <tr>\n",
       "      <th>0</th>\n",
       "      <td>5524</td>\n",
       "      <td>1957</td>\n",
       "      <td>Graduation</td>\n",
       "      <td>Single</td>\n",
       "      <td>58138.0</td>\n",
       "      <td>0</td>\n",
       "      <td>0</td>\n",
       "      <td>04-09-2012</td>\n",
       "      <td>58</td>\n",
       "      <td>635</td>\n",
       "      <td>...</td>\n",
       "      <td>7</td>\n",
       "      <td>0</td>\n",
       "      <td>0</td>\n",
       "      <td>0</td>\n",
       "      <td>0</td>\n",
       "      <td>0</td>\n",
       "      <td>0</td>\n",
       "      <td>3</td>\n",
       "      <td>11</td>\n",
       "      <td>1</td>\n",
       "    </tr>\n",
       "    <tr>\n",
       "      <th>2</th>\n",
       "      <td>4141</td>\n",
       "      <td>1965</td>\n",
       "      <td>Graduation</td>\n",
       "      <td>Together</td>\n",
       "      <td>71613.0</td>\n",
       "      <td>0</td>\n",
       "      <td>0</td>\n",
       "      <td>21-08-2013</td>\n",
       "      <td>26</td>\n",
       "      <td>426</td>\n",
       "      <td>...</td>\n",
       "      <td>4</td>\n",
       "      <td>0</td>\n",
       "      <td>0</td>\n",
       "      <td>0</td>\n",
       "      <td>0</td>\n",
       "      <td>0</td>\n",
       "      <td>0</td>\n",
       "      <td>3</td>\n",
       "      <td>11</td>\n",
       "      <td>0</td>\n",
       "    </tr>\n",
       "  </tbody>\n",
       "</table>\n",
       "<p>2 rows × 29 columns</p>\n",
       "</div>"
      ],
      "text/plain": [
       "     ID  Year_Birth   Education Marital_Status   Income  Kidhome  Teenhome  \\\n",
       "0  5524        1957  Graduation         Single  58138.0        0         0   \n",
       "2  4141        1965  Graduation       Together  71613.0        0         0   \n",
       "\n",
       "  Dt_Customer  Recency  MntWines  ...  NumWebVisitsMonth  AcceptedCmp3  \\\n",
       "0  04-09-2012       58       635  ...                  7             0   \n",
       "2  21-08-2013       26       426  ...                  4             0   \n",
       "\n",
       "   AcceptedCmp4  AcceptedCmp5  AcceptedCmp1  AcceptedCmp2  Complain  \\\n",
       "0             0             0             0             0         0   \n",
       "2             0             0             0             0         0   \n",
       "\n",
       "   Z_CostContact  Z_Revenue  Response  \n",
       "0              3         11         1  \n",
       "2              3         11         0  \n",
       "\n",
       "[2 rows x 29 columns]"
      ]
     },
     "execution_count": 11,
     "metadata": {},
     "output_type": "execute_result"
    }
   ],
   "source": [
    "# --- 8. Accessing the first and third rows ---\n",
    "df_marketing.iloc[[0,2]] "
   ]
  },
  {
   "cell_type": "markdown",
   "id": "a211889a",
   "metadata": {},
   "source": [
    "Accessing single value of a column in DataFrame using row index"
   ]
  },
  {
   "cell_type": "code",
   "execution_count": 12,
   "id": "cf5cf7a1",
   "metadata": {},
   "outputs": [
    {
     "data": {
      "text/plain": [
       "1965"
      ]
     },
     "execution_count": 12,
     "metadata": {},
     "output_type": "execute_result"
    }
   ],
   "source": [
    "# --- 9. Accessing the third row (index 2) of a specific column ---\n",
    "df_marketing['Year_Birth'][2]"
   ]
  },
  {
   "cell_type": "code",
   "execution_count": 16,
   "id": "32d94927",
   "metadata": {},
   "outputs": [
    {
     "data": {
      "text/plain": [
       "46344.0"
      ]
     },
     "execution_count": 16,
     "metadata": {},
     "output_type": "execute_result"
    }
   ],
   "source": [
    "# --- 10. Accessing a specific column in a row ---\n",
    "df_marketing.iloc[1]['Income']  "
   ]
  }
 ],
 "metadata": {
  "kernelspec": {
   "display_name": "base",
   "language": "python",
   "name": "python3"
  },
  "language_info": {
   "codemirror_mode": {
    "name": "ipython",
    "version": 3
   },
   "file_extension": ".py",
   "mimetype": "text/x-python",
   "name": "python",
   "nbconvert_exporter": "python",
   "pygments_lexer": "ipython3",
   "version": "3.11.7"
  }
 },
 "nbformat": 4,
 "nbformat_minor": 5
}
