{
 "cells": [
  {
   "cell_type": "markdown",
   "id": "347542b6",
   "metadata": {},
   "source": [
    "### Table of Content\n",
    "- [Import data](#Import-data)\n",
    "- [Inspecting data](#Inspecting-data)"
   ]
  },
  {
   "cell_type": "code",
   "execution_count": 3,
   "id": "881bcbc1",
   "metadata": {},
   "outputs": [],
   "source": [
    "# Import pandas using alias pd, numpy as np\n",
    "import pandas as pd \n",
    "import numpy as np\n",
    "from pathlib import Path"
   ]
  },
  {
   "cell_type": "markdown",
   "id": "9f8bbe7b",
   "metadata": {},
   "source": [
    "### Import data\n",
    "-------------------------"
   ]
  },
  {
   "cell_type": "markdown",
   "id": "f0b637d8",
   "metadata": {},
   "source": [
    "Load data stored in a csv file into a DataFrame using `pd.read_scv()` method. The dataset is from [Kaggle](https://www.kaggle.com/datasets/bhupendram/marketing-campaign)"
   ]
  },
  {
   "cell_type": "code",
   "execution_count": 5,
   "id": "5a39fd2d",
   "metadata": {},
   "outputs": [],
   "source": [
    "file_path = Path('data/corrected_marketing_campaign.csv')\n",
    "\n",
    "\n",
    "marketing = pd.read_csv(file_path, sep = ';') "
   ]
  },
  {
   "cell_type": "code",
   "execution_count": 6,
   "id": "8d23333f",
   "metadata": {},
   "outputs": [
    {
     "data": {
      "text/plain": [
       "WindowsPath('data/corrected_marketing_campaign.csv')"
      ]
     },
     "execution_count": 6,
     "metadata": {},
     "output_type": "execute_result"
    }
   ],
   "source": [
    "file_path"
   ]
  }
 ],
 "metadata": {
  "kernelspec": {
   "display_name": "Python 3",
   "language": "python",
   "name": "python3"
  },
  "language_info": {
   "codemirror_mode": {
    "name": "ipython",
    "version": 3
   },
   "file_extension": ".py",
   "mimetype": "text/x-python",
   "name": "python",
   "nbconvert_exporter": "python",
   "pygments_lexer": "ipython3",
   "version": "3.13.5"
  }
 },
 "nbformat": 4,
 "nbformat_minor": 5
}
