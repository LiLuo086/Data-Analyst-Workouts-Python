{
 "cells": [
  {
   "cell_type": "markdown",
   "id": "347542b6",
   "metadata": {},
   "source": [
    "### Table of Content\n",
    "- [Import data](#Import-data)\n",
    "- [Inspecting data](#Inspecting-data)"
   ]
  },
  {
   "cell_type": "code",
   "execution_count": null,
   "id": "881bcbc1",
   "metadata": {
    "vscode": {
     "languageId": "plaintext"
    }
   },
   "outputs": [],
   "source": [
    "# Import pandas using alias pd, numpy as np\n",
    "import pandas as pd \n",
    "import numpy as np"
   ]
  }
 ],
 "metadata": {
  "language_info": {
   "name": "python"
  }
 },
 "nbformat": 4,
 "nbformat_minor": 5
}
