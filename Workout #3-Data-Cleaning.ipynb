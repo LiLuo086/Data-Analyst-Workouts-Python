{
 "cells": [
  {
   "cell_type": "code",
   "execution_count": 30,
   "id": "304dcb58",
   "metadata": {},
   "outputs": [],
   "source": [
    "import pandas as pd\n",
    "import numpy as np\n",
    "from pathlib import Path"
   ]
  },
  {
   "cell_type": "markdown",
   "id": "dd5bf8ff",
   "metadata": {},
   "source": [
    "### Import and Inspect Data\n",
    "---------------------------"
   ]
  },
  {
   "cell_type": "markdown",
   "id": "751b99a1",
   "metadata": {},
   "source": [
    "In this workout, we use a dataset of cafe sales from [kaggle](https://www.kaggle.com/datasets/ahmedmohamed2003/cafe-sales-dirty-data-for-cleaning-training) to show how to use data cleaning techniques to process dirty data."
   ]
  },
  {
   "cell_type": "code",
   "execution_count": 31,
   "id": "e6f318b5",
   "metadata": {},
   "outputs": [
    {
     "name": "stdout",
     "output_type": "stream",
     "text": [
      "Data loaded successfully. 10000 rows and 8 columns.\n"
     ]
    }
   ],
   "source": [
    "# Load the café sales dataset\n",
    "data_path = Path(\"data/dirty_cafe_sales.csv\")\n",
    "\n",
    "# Check if the file exists\n",
    "if data_path.exists():\n",
    "    df = pd.read_csv(data_path)\n",
    "    print(f\"Data loaded successfully. {df.shape[0]} rows and {df.shape[1]} columns.\")\n",
    "else:\n",
    "    raise FileNotFoundError(f\"The file {data_path} does not exist.\")"
   ]
  },
  {
   "cell_type": "markdown",
   "id": "2030bfe7",
   "metadata": {},
   "source": [
    "### Inspect Data\n",
    "----------------"
   ]
  },
  {
   "cell_type": "code",
   "execution_count": 32,
   "id": "1aed85c0",
   "metadata": {},
   "outputs": [
    {
     "data": {
      "text/html": [
       "<div>\n",
       "<style scoped>\n",
       "    .dataframe tbody tr th:only-of-type {\n",
       "        vertical-align: middle;\n",
       "    }\n",
       "\n",
       "    .dataframe tbody tr th {\n",
       "        vertical-align: top;\n",
       "    }\n",
       "\n",
       "    .dataframe thead th {\n",
       "        text-align: right;\n",
       "    }\n",
       "</style>\n",
       "<table border=\"1\" class=\"dataframe\">\n",
       "  <thead>\n",
       "    <tr style=\"text-align: right;\">\n",
       "      <th></th>\n",
       "      <th>Transaction ID</th>\n",
       "      <th>Item</th>\n",
       "      <th>Quantity</th>\n",
       "      <th>Price Per Unit</th>\n",
       "      <th>Total Spent</th>\n",
       "      <th>Payment Method</th>\n",
       "      <th>Location</th>\n",
       "      <th>Transaction Date</th>\n",
       "    </tr>\n",
       "  </thead>\n",
       "  <tbody>\n",
       "    <tr>\n",
       "      <th>0</th>\n",
       "      <td>TXN_1961373</td>\n",
       "      <td>Coffee</td>\n",
       "      <td>2</td>\n",
       "      <td>2.0</td>\n",
       "      <td>4.0</td>\n",
       "      <td>Credit Card</td>\n",
       "      <td>Takeaway</td>\n",
       "      <td>2023-09-08</td>\n",
       "    </tr>\n",
       "    <tr>\n",
       "      <th>1</th>\n",
       "      <td>TXN_4977031</td>\n",
       "      <td>Cake</td>\n",
       "      <td>4</td>\n",
       "      <td>3.0</td>\n",
       "      <td>12.0</td>\n",
       "      <td>Cash</td>\n",
       "      <td>In-store</td>\n",
       "      <td>2023-05-16</td>\n",
       "    </tr>\n",
       "    <tr>\n",
       "      <th>2</th>\n",
       "      <td>TXN_4271903</td>\n",
       "      <td>Cookie</td>\n",
       "      <td>4</td>\n",
       "      <td>1.0</td>\n",
       "      <td>ERROR</td>\n",
       "      <td>Credit Card</td>\n",
       "      <td>In-store</td>\n",
       "      <td>2023-07-19</td>\n",
       "    </tr>\n",
       "    <tr>\n",
       "      <th>3</th>\n",
       "      <td>TXN_7034554</td>\n",
       "      <td>Salad</td>\n",
       "      <td>2</td>\n",
       "      <td>5.0</td>\n",
       "      <td>10.0</td>\n",
       "      <td>UNKNOWN</td>\n",
       "      <td>UNKNOWN</td>\n",
       "      <td>2023-04-27</td>\n",
       "    </tr>\n",
       "    <tr>\n",
       "      <th>4</th>\n",
       "      <td>TXN_3160411</td>\n",
       "      <td>Coffee</td>\n",
       "      <td>2</td>\n",
       "      <td>2.0</td>\n",
       "      <td>4.0</td>\n",
       "      <td>Digital Wallet</td>\n",
       "      <td>In-store</td>\n",
       "      <td>2023-06-11</td>\n",
       "    </tr>\n",
       "  </tbody>\n",
       "</table>\n",
       "</div>"
      ],
      "text/plain": [
       "  Transaction ID    Item Quantity Price Per Unit Total Spent  Payment Method  \\\n",
       "0    TXN_1961373  Coffee        2            2.0         4.0     Credit Card   \n",
       "1    TXN_4977031    Cake        4            3.0        12.0            Cash   \n",
       "2    TXN_4271903  Cookie        4            1.0       ERROR     Credit Card   \n",
       "3    TXN_7034554   Salad        2            5.0        10.0         UNKNOWN   \n",
       "4    TXN_3160411  Coffee        2            2.0         4.0  Digital Wallet   \n",
       "\n",
       "   Location Transaction Date  \n",
       "0  Takeaway       2023-09-08  \n",
       "1  In-store       2023-05-16  \n",
       "2  In-store       2023-07-19  \n",
       "3   UNKNOWN       2023-04-27  \n",
       "4  In-store       2023-06-11  "
      ]
     },
     "execution_count": 32,
     "metadata": {},
     "output_type": "execute_result"
    }
   ],
   "source": [
    "# Take a first look\n",
    "df.head()"
   ]
  },
  {
   "cell_type": "code",
   "execution_count": 33,
   "id": "fa1b0c98",
   "metadata": {},
   "outputs": [
    {
     "name": "stdout",
     "output_type": "stream",
     "text": [
      "\n",
      "DataFrame Information:\n",
      "<class 'pandas.core.frame.DataFrame'>\n",
      "RangeIndex: 10000 entries, 0 to 9999\n",
      "Data columns (total 8 columns):\n",
      " #   Column            Non-Null Count  Dtype \n",
      "---  ------            --------------  ----- \n",
      " 0   Transaction ID    10000 non-null  object\n",
      " 1   Item              9667 non-null   object\n",
      " 2   Quantity          9862 non-null   object\n",
      " 3   Price Per Unit    9821 non-null   object\n",
      " 4   Total Spent       9827 non-null   object\n",
      " 5   Payment Method    7421 non-null   object\n",
      " 6   Location          6735 non-null   object\n",
      " 7   Transaction Date  9841 non-null   object\n",
      "dtypes: object(8)\n",
      "memory usage: 625.1+ KB\n",
      "\n",
      "Missing values in each column:\n"
     ]
    },
    {
     "data": {
      "text/plain": [
       "Transaction ID         0\n",
       "Item                 333\n",
       "Quantity             138\n",
       "Price Per Unit       179\n",
       "Total Spent          173\n",
       "Payment Method      2579\n",
       "Location            3265\n",
       "Transaction Date     159\n",
       "dtype: int64"
      ]
     },
     "execution_count": 33,
     "metadata": {},
     "output_type": "execute_result"
    }
   ],
   "source": [
    "print(\"\\nDataFrame Information:\")\n",
    "df.info()\n",
    "\n",
    "print(\"\\nMissing values in each column:\")\n",
    "df.isnull().sum()"
   ]
  },
  {
   "cell_type": "markdown",
   "id": "311bdfd8",
   "metadata": {},
   "source": [
    "Through data inspecting we found that:\n",
    "- some columns have wrong values, like `ERROR` and `UNKNOWN`\n",
    "- some columns have null values. \n",
    "- the data type of all columns are not correct, because of the messy data values, pandas cannot correctly recognize the data type.\n",
    "\n",
    "So next we will dealing with these problems by data cleaning. "
   ]
  },
  {
   "cell_type": "markdown",
   "id": "27da6f07",
   "metadata": {},
   "source": [
    "### Clean Data\n",
    "--------------"
   ]
  },
  {
   "cell_type": "markdown",
   "id": "b326eed7",
   "metadata": {},
   "source": [
    "#### Remove whitespace in strings"
   ]
  },
  {
   "cell_type": "markdown",
   "id": "fdf38293",
   "metadata": {},
   "source": [
    "The method `str.stripe()` is a very useful tool to process string value, which removes whitespace characters (spaces, tabs, newlines) from the beginning and end of strings. But notice that `str.stripe()` does not touch the characters in the middle of a string, which means that the whitespace in the middle cannot be removed.\n",
    "\n",
    "Since the string columns have mixed values, we should use `astype(str)` to force values into string type."
   ]
  },
  {
   "cell_type": "code",
   "execution_count": 34,
   "id": "11b99f9e",
   "metadata": {},
   "outputs": [],
   "source": [
    "# --- 1. Remove whitespace in string columns ---\n",
    "df['Transaction ID'] = df['Transaction ID'].astype(str).str.strip()\n",
    "df['Item'] = df['Item'].astype(str).str.strip()\n",
    "df['Payment Method'] = df['Payment Method'].astype(str).str.strip()\n",
    "df['Location'] = df['Location'].astype(str).str.strip()"
   ]
  },
  {
   "cell_type": "markdown",
   "id": "4ebcdfcf",
   "metadata": {},
   "source": [
    "#### Lowercase string values"
   ]
  },
  {
   "cell_type": "markdown",
   "id": "c50465c9",
   "metadata": {},
   "source": [
    "Making string values lowercase during cleaning is one of those “small steps, big impact” moves. Lowercase string values can avoid duplicate categories that differ only by case. The `str.lower()` method is the tool here to help reach this goal."
   ]
  },
  {
   "cell_type": "code",
   "execution_count": 35,
   "id": "72d2eb44",
   "metadata": {},
   "outputs": [
    {
     "data": {
      "text/html": [
       "<div>\n",
       "<style scoped>\n",
       "    .dataframe tbody tr th:only-of-type {\n",
       "        vertical-align: middle;\n",
       "    }\n",
       "\n",
       "    .dataframe tbody tr th {\n",
       "        vertical-align: top;\n",
       "    }\n",
       "\n",
       "    .dataframe thead th {\n",
       "        text-align: right;\n",
       "    }\n",
       "</style>\n",
       "<table border=\"1\" class=\"dataframe\">\n",
       "  <thead>\n",
       "    <tr style=\"text-align: right;\">\n",
       "      <th></th>\n",
       "      <th>Transaction ID</th>\n",
       "      <th>Item</th>\n",
       "      <th>Quantity</th>\n",
       "      <th>Price Per Unit</th>\n",
       "      <th>Total Spent</th>\n",
       "      <th>Payment Method</th>\n",
       "      <th>Location</th>\n",
       "      <th>Transaction Date</th>\n",
       "    </tr>\n",
       "  </thead>\n",
       "  <tbody>\n",
       "    <tr>\n",
       "      <th>0</th>\n",
       "      <td>TXN_1961373</td>\n",
       "      <td>coffee</td>\n",
       "      <td>2</td>\n",
       "      <td>2.0</td>\n",
       "      <td>4.0</td>\n",
       "      <td>credit card</td>\n",
       "      <td>takeaway</td>\n",
       "      <td>2023-09-08</td>\n",
       "    </tr>\n",
       "    <tr>\n",
       "      <th>1</th>\n",
       "      <td>TXN_4977031</td>\n",
       "      <td>cake</td>\n",
       "      <td>4</td>\n",
       "      <td>3.0</td>\n",
       "      <td>12.0</td>\n",
       "      <td>cash</td>\n",
       "      <td>in-store</td>\n",
       "      <td>2023-05-16</td>\n",
       "    </tr>\n",
       "    <tr>\n",
       "      <th>2</th>\n",
       "      <td>TXN_4271903</td>\n",
       "      <td>cookie</td>\n",
       "      <td>4</td>\n",
       "      <td>1.0</td>\n",
       "      <td>ERROR</td>\n",
       "      <td>credit card</td>\n",
       "      <td>in-store</td>\n",
       "      <td>2023-07-19</td>\n",
       "    </tr>\n",
       "    <tr>\n",
       "      <th>3</th>\n",
       "      <td>TXN_7034554</td>\n",
       "      <td>salad</td>\n",
       "      <td>2</td>\n",
       "      <td>5.0</td>\n",
       "      <td>10.0</td>\n",
       "      <td>unknown</td>\n",
       "      <td>unknown</td>\n",
       "      <td>2023-04-27</td>\n",
       "    </tr>\n",
       "    <tr>\n",
       "      <th>4</th>\n",
       "      <td>TXN_3160411</td>\n",
       "      <td>coffee</td>\n",
       "      <td>2</td>\n",
       "      <td>2.0</td>\n",
       "      <td>4.0</td>\n",
       "      <td>digital wallet</td>\n",
       "      <td>in-store</td>\n",
       "      <td>2023-06-11</td>\n",
       "    </tr>\n",
       "  </tbody>\n",
       "</table>\n",
       "</div>"
      ],
      "text/plain": [
       "  Transaction ID    Item Quantity Price Per Unit Total Spent  Payment Method  \\\n",
       "0    TXN_1961373  coffee        2            2.0         4.0     credit card   \n",
       "1    TXN_4977031    cake        4            3.0        12.0            cash   \n",
       "2    TXN_4271903  cookie        4            1.0       ERROR     credit card   \n",
       "3    TXN_7034554   salad        2            5.0        10.0         unknown   \n",
       "4    TXN_3160411  coffee        2            2.0         4.0  digital wallet   \n",
       "\n",
       "   Location Transaction Date  \n",
       "0  takeaway       2023-09-08  \n",
       "1  in-store       2023-05-16  \n",
       "2  in-store       2023-07-19  \n",
       "3   unknown       2023-04-27  \n",
       "4  in-store       2023-06-11  "
      ]
     },
     "execution_count": 35,
     "metadata": {},
     "output_type": "execute_result"
    }
   ],
   "source": [
    "# --- 2. Lowercase string values ---\n",
    "df['Item'] = df['Item'].str.lower()\n",
    "df['Payment Method'] = df['Payment Method'].str.lower()\n",
    "df['Location'] = df['Location'].str.lower()\n",
    "\n",
    "# Check the cleaned DataFrame\n",
    "df.head()"
   ]
  },
  {
   "cell_type": "markdown",
   "id": "c0be73f8",
   "metadata": {},
   "source": [
    "### Correct column names "
   ]
  },
  {
   "cell_type": "markdown",
   "id": "1e6ac47f",
   "metadata": {},
   "source": [
    "We see that some column names have white space, like `Transaction ID`, `Price Per Unit`, `Total Spent`, `Payment Method` and `Transaction Date`. In order to keep the consistency between various tools and database, it's a good practice to replace the whitespace with underscore `_` in the column names."
   ]
  },
  {
   "cell_type": "code",
   "execution_count": 36,
   "id": "ab04f26c",
   "metadata": {},
   "outputs": [
    {
     "data": {
      "text/html": [
       "<div>\n",
       "<style scoped>\n",
       "    .dataframe tbody tr th:only-of-type {\n",
       "        vertical-align: middle;\n",
       "    }\n",
       "\n",
       "    .dataframe tbody tr th {\n",
       "        vertical-align: top;\n",
       "    }\n",
       "\n",
       "    .dataframe thead th {\n",
       "        text-align: right;\n",
       "    }\n",
       "</style>\n",
       "<table border=\"1\" class=\"dataframe\">\n",
       "  <thead>\n",
       "    <tr style=\"text-align: right;\">\n",
       "      <th></th>\n",
       "      <th>Transaction_ID</th>\n",
       "      <th>Item</th>\n",
       "      <th>Quantity</th>\n",
       "      <th>Price_Per_Unit</th>\n",
       "      <th>Total_Spent</th>\n",
       "      <th>Payment_Method</th>\n",
       "      <th>Location</th>\n",
       "      <th>Transaction_Date</th>\n",
       "    </tr>\n",
       "  </thead>\n",
       "  <tbody>\n",
       "    <tr>\n",
       "      <th>0</th>\n",
       "      <td>TXN_1961373</td>\n",
       "      <td>coffee</td>\n",
       "      <td>2</td>\n",
       "      <td>2.0</td>\n",
       "      <td>4.0</td>\n",
       "      <td>credit card</td>\n",
       "      <td>takeaway</td>\n",
       "      <td>2023-09-08</td>\n",
       "    </tr>\n",
       "    <tr>\n",
       "      <th>1</th>\n",
       "      <td>TXN_4977031</td>\n",
       "      <td>cake</td>\n",
       "      <td>4</td>\n",
       "      <td>3.0</td>\n",
       "      <td>12.0</td>\n",
       "      <td>cash</td>\n",
       "      <td>in-store</td>\n",
       "      <td>2023-05-16</td>\n",
       "    </tr>\n",
       "    <tr>\n",
       "      <th>2</th>\n",
       "      <td>TXN_4271903</td>\n",
       "      <td>cookie</td>\n",
       "      <td>4</td>\n",
       "      <td>1.0</td>\n",
       "      <td>ERROR</td>\n",
       "      <td>credit card</td>\n",
       "      <td>in-store</td>\n",
       "      <td>2023-07-19</td>\n",
       "    </tr>\n",
       "    <tr>\n",
       "      <th>3</th>\n",
       "      <td>TXN_7034554</td>\n",
       "      <td>salad</td>\n",
       "      <td>2</td>\n",
       "      <td>5.0</td>\n",
       "      <td>10.0</td>\n",
       "      <td>unknown</td>\n",
       "      <td>unknown</td>\n",
       "      <td>2023-04-27</td>\n",
       "    </tr>\n",
       "    <tr>\n",
       "      <th>4</th>\n",
       "      <td>TXN_3160411</td>\n",
       "      <td>coffee</td>\n",
       "      <td>2</td>\n",
       "      <td>2.0</td>\n",
       "      <td>4.0</td>\n",
       "      <td>digital wallet</td>\n",
       "      <td>in-store</td>\n",
       "      <td>2023-06-11</td>\n",
       "    </tr>\n",
       "  </tbody>\n",
       "</table>\n",
       "</div>"
      ],
      "text/plain": [
       "  Transaction_ID    Item Quantity Price_Per_Unit Total_Spent  Payment_Method  \\\n",
       "0    TXN_1961373  coffee        2            2.0         4.0     credit card   \n",
       "1    TXN_4977031    cake        4            3.0        12.0            cash   \n",
       "2    TXN_4271903  cookie        4            1.0       ERROR     credit card   \n",
       "3    TXN_7034554   salad        2            5.0        10.0         unknown   \n",
       "4    TXN_3160411  coffee        2            2.0         4.0  digital wallet   \n",
       "\n",
       "   Location Transaction_Date  \n",
       "0  takeaway       2023-09-08  \n",
       "1  in-store       2023-05-16  \n",
       "2  in-store       2023-07-19  \n",
       "3   unknown       2023-04-27  \n",
       "4  in-store       2023-06-11  "
      ]
     },
     "execution_count": 36,
     "metadata": {},
     "output_type": "execute_result"
    }
   ],
   "source": [
    "# ---3. Correct column names ---\n",
    "df.columns = df.columns.str.replace(\" \", \"_\", regex=False) \n",
    "\n",
    "# Check the cleaned DataFrame\n",
    "df.head()"
   ]
  },
  {
   "cell_type": "code",
   "execution_count": 37,
   "id": "ac060e15",
   "metadata": {},
   "outputs": [],
   "source": [
    "# --- 4. Replace \"nan\" strings with actual NaN values ---\n",
    "df[['Item', 'Payment_Method', 'Location']] = df[['Item', 'Payment_Method', 'Location']].replace(\"nan\", np.nan)"
   ]
  }
 ],
 "metadata": {
  "kernelspec": {
   "display_name": "base",
   "language": "python",
   "name": "python3"
  },
  "language_info": {
   "codemirror_mode": {
    "name": "ipython",
    "version": 3
   },
   "file_extension": ".py",
   "mimetype": "text/x-python",
   "name": "python",
   "nbconvert_exporter": "python",
   "pygments_lexer": "ipython3",
   "version": "3.11.7"
  }
 },
 "nbformat": 4,
 "nbformat_minor": 5
}
