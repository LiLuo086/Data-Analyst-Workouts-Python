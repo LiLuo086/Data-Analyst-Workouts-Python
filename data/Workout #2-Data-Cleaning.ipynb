{
 "cells": [
  {
   "cell_type": "code",
   "execution_count": null,
   "id": "4c4e4a6b",
   "metadata": {},
   "outputs": [],
   "source": [
    "# --- 4. Missung values & duplicates check ---\n",
    "\n",
    "def check_data_quality(dataframe):\n",
    "    print('\\nMissing Values:')\n",
    "    print(dataframe.isnull().sum())\n",
    "    print('\\nDuplicates:')\n",
    "    print(dataframe.duplicated().sum())\n",
    "\n",
    "check_data_quality(df_marketing)"
   ]
  }
 ],
 "metadata": {
  "language_info": {
   "name": "python"
  }
 },
 "nbformat": 4,
 "nbformat_minor": 5
}
